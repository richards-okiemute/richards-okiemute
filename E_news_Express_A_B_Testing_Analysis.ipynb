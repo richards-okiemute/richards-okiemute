{
  "nbformat": 4,
  "nbformat_minor": 0,
  "metadata": {
    "kernelspec": {
      "display_name": "Python 3",
      "language": "python",
      "name": "python3"
    },
    "language_info": {
      "codemirror_mode": {
        "name": "ipython",
        "version": 3
      },
      "file_extension": ".py",
      "mimetype": "text/x-python",
      "name": "python",
      "nbconvert_exporter": "python",
      "pygments_lexer": "ipython3",
      "version": "3.7.6"
    },
    "colab": {
      "name": "E-news Express A/B Testing Analysis.ipynb",
      "provenance": [],
      "collapsed_sections": [
        "UHSWlXZE14PW",
        "Yy3CAGqN14PZ",
        "UnMyDg-i14Pd",
        "wyyd0gbA14Pg",
        "1MqId7hM14Ph"
      ],
      "include_colab_link": true
    }
  },
  "cells": [
    {
      "cell_type": "markdown",
      "metadata": {
        "id": "view-in-github",
        "colab_type": "text"
      },
      "source": [
        "<a href=\"https://colab.research.google.com/github/richards-okiemute/richards-okiemute/blob/main/E_news_Express_A_B_Testing_Analysis.ipynb\" target=\"_parent\"><img src=\"https://colab.research.google.com/assets/colab-badge.svg\" alt=\"Open In Colab\"/></a>"
      ]
    },
    {
      "cell_type": "markdown",
      "metadata": {
        "id": "WTmIxOxJ14O3"
      },
      "source": [
        "# **E-news Express A/B Testing Analysis**\n",
        "\n",
        "### *--Richards Okiemute*"
      ]
    },
    {
      "cell_type": "markdown",
      "metadata": {
        "id": "yd9hchVv14O8"
      },
      "source": [
        "## Problem Definition\n",
        "\n",
        "* E-News Express is an online news portal company which serves her subscribers with online news content.\n",
        "Visitors accessing the company's website perform different actions based on their personal interest. The company intends to analyze these interests in order to find out which feature will be effective or not. They plan on analyzing users' responses to two (2) variants of a product to decide which is more effective. They intend to discover which feature attracts users interest based on a particular metric using A/B Testing methodology.\n",
        "\n",
        "\n",
        "## Objectives\n",
        "\n",
        "\n",
        "> Performing Statistical analysis of business data. \n",
        "  - Explore the dataset and extract insights from the data.\n",
        "\n",
        "> Use the Insights obtained from Exploratory Data Analysis (EDA) to answer the following Business Questions;\n",
        "  - Do the users spend more time on the new landing page than the old landing page?\n",
        "  - Is the conversion rate (the proportion of users who visit the landing page and get converted) for the new page    greater than the conversion rate for the old page?\n",
        "  - Does the converted status depend on the preferred language? \n",
        "  - Is the mean time spent on the new page same for the different language users?\n",
        "\n",
        "\n",
        "*Consider a significance level of 0.05 for all tests i.e* **α = 5%.**\n",
        "\n",
        "\n",
        "\n",
        "## Data Dictionary:\n",
        "\n",
        "**user_id** - This represents the user ID of the person visiting the website.\n",
        "\n",
        "**group** - This represents whether the user belongs to the first group (control) or the second group (treatment).\n",
        "\n",
        "**landing_page** - This represents whether the landing page is new or old.\n",
        "\n",
        "**time_spent_on_the_page** - This represents the time (in minutes) spent by the user on the landing page.\n",
        "\n",
        "**converted** - This represents whether the user gets converted to a subscriber of the news portal or not.\n",
        "\n",
        "**language_preferred** - This represents the language chosen by the user to view the landing page.\n"
      ]
    },
    {
      "cell_type": "code",
      "metadata": {
        "id": "kruTd9Os14O-"
      },
      "source": [
        "#Importing the necessary libraries\n",
        "import numpy as np                    #for numerical computation  \n",
        "import pandas as pd                   #for dataframe and series manipulation (data wrangling)\n",
        "import matplotlib.pyplot as plt       #for data visualization\n",
        "import seaborn as sns                 #for data visualization\n",
        "import scipy.stats as stats          #for statistical analysis\n",
        "from scipy.stats import levene        #for variance analysis\n",
        "from statsmodels.stats.multicomp import pairwise_tukeyhsd  #for mulitple test comparison\n",
        "from scipy.stats import chi2_contingency  #for chi_square computation\n",
        "from statsmodels.stats.proportion import proportions_ztest  # for computing proportions_ztest\n",
        "%matplotlib inline\n",
        "sns.set_style('whitegrid')\n",
        "sns.set_palette('Set1')"
      ],
      "execution_count": null,
      "outputs": []
    },
    {
      "cell_type": "code",
      "metadata": {
        "colab": {
          "resources": {
            "http://localhost:8080/nbextensions/google.colab/files.js": {
              "data": "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",
              "ok": true,
              "headers": [
                [
                  "content-type",
                  "application/javascript"
                ]
              ],
              "status": 200,
              "status_text": ""
            }
          },
          "base_uri": "https://localhost:8080/",
          "height": 112
        },
        "id": "DsPUme4X14PA",
        "outputId": "9174ef49-f6b0-40a2-9e70-97989b143197"
      },
      "source": [
        "#loading data from local work environment\n",
        "from google.colab import files\n",
        "file = files.upload()\n",
        "file"
      ],
      "execution_count": null,
      "outputs": [
        {
          "output_type": "display_data",
          "data": {
            "text/html": [
              "\n",
              "     <input type=\"file\" id=\"files-4b1a6c63-9ac9-42d7-a04f-115556914abb\" name=\"files[]\" multiple disabled\n",
              "        style=\"border:none\" />\n",
              "     <output id=\"result-4b1a6c63-9ac9-42d7-a04f-115556914abb\">\n",
              "      Upload widget is only available when the cell has been executed in the\n",
              "      current browser session. Please rerun this cell to enable.\n",
              "      </output>\n",
              "      <script src=\"/nbextensions/google.colab/files.js\"></script> "
            ],
            "text/plain": [
              "<IPython.core.display.HTML object>"
            ]
          },
          "metadata": {}
        },
        {
          "output_type": "stream",
          "name": "stdout",
          "text": [
            "Saving abtest.csv to abtest (1).csv\n"
          ]
        },
        {
          "output_type": "execute_result",
          "data": {
            "text/plain": [
              "{'abtest.csv': b'user_id,group,landing_page,time_spent_on_the_page,converted,language_preferred\\r\\n546592,control,old,3.48,no,Spanish\\r\\n546468,treatment,new,7.13,yes,English\\r\\n546462,treatment,new,4.4,no,Spanish\\r\\n546567,control,old,3.02,no,French\\r\\n546459,treatment,new,4.75,yes,Spanish\\r\\n546558,control,old,5.28,yes,English\\r\\n546448,treatment,new,5.25,yes,French\\r\\n546581,control,old,6.53,yes,Spanish\\r\\n546461,treatment,new,10.71,yes,French\\r\\n546548,control,old,2.08,no,English\\r\\n546588,control,old,6.21,yes,Spanish\\r\\n546546,control,old,2.58,yes,English\\r\\n546491,treatment,new,5.86,yes,Spanish\\r\\n546478,treatment,new,6.03,yes,French\\r\\n546578,control,old,8.72,yes,Spanish\\r\\n546466,treatment,new,6.27,yes,Spanish\\r\\n546443,treatment,new,8.73,no,English\\r\\n546555,control,old,0.4,no,English\\r\\n546493,control,old,10.3,yes,English\\r\\n546549,control,old,3.88,yes,English\\r\\n546560,control,old,2.66,no,French\\r\\n546584,control,old,7.03,yes,Spanish\\r\\n546450,treatment,new,3.65,no,English\\r\\n546475,treatment,new,7.02,yes,English\\r\\n546456,treatment,new,6.18,no,Spanish\\r\\n546455,treatment,new,4.39,no,English\\r\\n546469,treatment,new,9.49,yes,English\\r\\n546586,control,old,4.05,no,Spanish\\r\\n546471,treatment,new,7.81,yes,French\\r\\n546575,control,old,4.28,no,French\\r\\n546464,treatment,new,5.41,yes,English\\r\\n546556,control,old,3.52,yes,English\\r\\n546585,control,old,5.39,yes,Spanish\\r\\n546577,control,old,4.52,no,Spanish\\r\\n546587,control,old,4.46,no,Spanish\\r\\n546552,control,old,8.5,yes,English\\r\\n546551,control,old,3.13,no,English\\r\\n546557,control,old,6.04,yes,English\\r\\n546487,treatment,new,1.65,no,Spanish\\r\\n546589,control,old,0.19,no,Spanish\\r\\n546559,control,old,8.46,yes,French\\r\\n546570,control,old,1.92,no,French\\r\\n546489,treatment,new,7.16,yes,Spanish\\r\\n546453,treatment,new,7.16,yes,English\\r\\n546488,treatment,new,3.91,no,English\\r\\n546565,control,old,8.02,no,French\\r\\n546460,treatment,new,5.37,yes,French\\r\\n546458,treatment,new,7.23,yes,Spanish\\r\\n546492,treatment,new,8.08,yes,Spanish\\r\\n546473,treatment,new,10.5,yes,English\\r\\n546554,control,old,0.22,no,English\\r\\n546457,treatment,new,5.65,no,English\\r\\n546479,treatment,new,6.47,yes,Spanish\\r\\n546576,control,old,4.71,no,Spanish\\r\\n546482,treatment,new,6.41,yes,Spanish\\r\\n546563,control,old,0.93,no,French\\r\\n546569,control,old,1.81,no,French\\r\\n546454,treatment,new,8.3,yes,French\\r\\n546562,control,old,7.4,yes,French\\r\\n546574,control,old,9.15,no,French\\r\\n546470,treatment,new,6.01,yes,French\\r\\n546467,treatment,new,6.79,yes,French\\r\\n546572,control,old,4.18,no,French\\r\\n546590,control,old,5.47,no,Spanish\\r\\n546553,control,old,5.96,yes,English\\r\\n546445,treatment,new,7.27,yes,French\\r\\n546545,control,old,6.6,yes,English\\r\\n546582,control,old,4.75,yes,Spanish\\r\\n546484,treatment,new,6.7,no,Spanish\\r\\n546579,control,old,2.23,no,Spanish\\r\\n546568,control,old,0.4,no,French\\r\\n546476,treatment,new,5.42,yes,French\\r\\n546452,treatment,new,5.08,yes,English\\r\\n546444,treatment,new,7.46,yes,English\\r\\n546591,control,old,4.87,no,Spanish\\r\\n546583,control,old,6.57,yes,Spanish\\r\\n546573,control,old,1.44,no,French\\r\\n546485,treatment,new,3.88,no,Spanish\\r\\n546486,treatment,new,9.12,yes,French\\r\\n546547,control,old,3.21,yes,English\\r\\n546490,treatment,new,4.68,no,French\\r\\n546449,treatment,new,5.26,yes,French\\r\\n546463,treatment,new,5.74,yes,Spanish\\r\\n546580,control,old,2.9,no,Spanish\\r\\n546571,control,old,4.3,no,French\\r\\n546564,control,old,0.91,no,French\\r\\n546465,treatment,new,6.71,no,English\\r\\n546480,treatment,new,3.68,no,French\\r\\n546447,treatment,new,3.3,no,French\\r\\n546561,control,old,6.04,yes,French\\r\\n546477,treatment,new,5.4,no,French\\r\\n546451,treatment,new,8.47,yes,English\\r\\n546566,control,old,8.35,no,French\\r\\n546474,treatment,new,4.94,no,French\\r\\n546550,control,old,3.05,no,English\\r\\n546446,treatment,new,5.15,no,Spanish\\r\\n546544,control,old,6.52,yes,English\\r\\n546472,treatment,new,7.07,yes,Spanish\\r\\n546481,treatment,new,6.2,yes,Spanish\\r\\n546483,treatment,new,5.86,yes,English\\r\\n'}"
            ]
          },
          "metadata": {},
          "execution_count": 22
        }
      ]
    },
    {
      "cell_type": "code",
      "metadata": {
        "id": "sFgVjlyQ3v3T"
      },
      "source": [
        "enews = pd.read_csv('abtest.csv')"
      ],
      "execution_count": null,
      "outputs": []
    },
    {
      "cell_type": "code",
      "metadata": {
        "colab": {
          "base_uri": "https://localhost:8080/",
          "height": 362
        },
        "id": "NQPv9w-N14PB",
        "outputId": "51770f07-4fc8-4d1c-c430-08a46073a4c4"
      },
      "source": [
        "#viewing the first five (5) rows of the data\n",
        "\n",
        "enews.head(10)"
      ],
      "execution_count": null,
      "outputs": [
        {
          "output_type": "execute_result",
          "data": {
            "text/html": [
              "<div>\n",
              "<style scoped>\n",
              "    .dataframe tbody tr th:only-of-type {\n",
              "        vertical-align: middle;\n",
              "    }\n",
              "\n",
              "    .dataframe tbody tr th {\n",
              "        vertical-align: top;\n",
              "    }\n",
              "\n",
              "    .dataframe thead th {\n",
              "        text-align: right;\n",
              "    }\n",
              "</style>\n",
              "<table border=\"1\" class=\"dataframe\">\n",
              "  <thead>\n",
              "    <tr style=\"text-align: right;\">\n",
              "      <th></th>\n",
              "      <th>user_id</th>\n",
              "      <th>group</th>\n",
              "      <th>landing_page</th>\n",
              "      <th>time_spent_on_the_page</th>\n",
              "      <th>converted</th>\n",
              "      <th>language_preferred</th>\n",
              "    </tr>\n",
              "  </thead>\n",
              "  <tbody>\n",
              "    <tr>\n",
              "      <th>0</th>\n",
              "      <td>546592</td>\n",
              "      <td>control</td>\n",
              "      <td>old</td>\n",
              "      <td>3.48</td>\n",
              "      <td>no</td>\n",
              "      <td>Spanish</td>\n",
              "    </tr>\n",
              "    <tr>\n",
              "      <th>1</th>\n",
              "      <td>546468</td>\n",
              "      <td>treatment</td>\n",
              "      <td>new</td>\n",
              "      <td>7.13</td>\n",
              "      <td>yes</td>\n",
              "      <td>English</td>\n",
              "    </tr>\n",
              "    <tr>\n",
              "      <th>2</th>\n",
              "      <td>546462</td>\n",
              "      <td>treatment</td>\n",
              "      <td>new</td>\n",
              "      <td>4.40</td>\n",
              "      <td>no</td>\n",
              "      <td>Spanish</td>\n",
              "    </tr>\n",
              "    <tr>\n",
              "      <th>3</th>\n",
              "      <td>546567</td>\n",
              "      <td>control</td>\n",
              "      <td>old</td>\n",
              "      <td>3.02</td>\n",
              "      <td>no</td>\n",
              "      <td>French</td>\n",
              "    </tr>\n",
              "    <tr>\n",
              "      <th>4</th>\n",
              "      <td>546459</td>\n",
              "      <td>treatment</td>\n",
              "      <td>new</td>\n",
              "      <td>4.75</td>\n",
              "      <td>yes</td>\n",
              "      <td>Spanish</td>\n",
              "    </tr>\n",
              "    <tr>\n",
              "      <th>5</th>\n",
              "      <td>546558</td>\n",
              "      <td>control</td>\n",
              "      <td>old</td>\n",
              "      <td>5.28</td>\n",
              "      <td>yes</td>\n",
              "      <td>English</td>\n",
              "    </tr>\n",
              "    <tr>\n",
              "      <th>6</th>\n",
              "      <td>546448</td>\n",
              "      <td>treatment</td>\n",
              "      <td>new</td>\n",
              "      <td>5.25</td>\n",
              "      <td>yes</td>\n",
              "      <td>French</td>\n",
              "    </tr>\n",
              "    <tr>\n",
              "      <th>7</th>\n",
              "      <td>546581</td>\n",
              "      <td>control</td>\n",
              "      <td>old</td>\n",
              "      <td>6.53</td>\n",
              "      <td>yes</td>\n",
              "      <td>Spanish</td>\n",
              "    </tr>\n",
              "    <tr>\n",
              "      <th>8</th>\n",
              "      <td>546461</td>\n",
              "      <td>treatment</td>\n",
              "      <td>new</td>\n",
              "      <td>10.71</td>\n",
              "      <td>yes</td>\n",
              "      <td>French</td>\n",
              "    </tr>\n",
              "    <tr>\n",
              "      <th>9</th>\n",
              "      <td>546548</td>\n",
              "      <td>control</td>\n",
              "      <td>old</td>\n",
              "      <td>2.08</td>\n",
              "      <td>no</td>\n",
              "      <td>English</td>\n",
              "    </tr>\n",
              "  </tbody>\n",
              "</table>\n",
              "</div>"
            ],
            "text/plain": [
              "   user_id      group  ... converted  language_preferred\n",
              "0   546592    control  ...        no             Spanish\n",
              "1   546468  treatment  ...       yes             English\n",
              "2   546462  treatment  ...        no             Spanish\n",
              "3   546567    control  ...        no              French\n",
              "4   546459  treatment  ...       yes             Spanish\n",
              "5   546558    control  ...       yes             English\n",
              "6   546448  treatment  ...       yes              French\n",
              "7   546581    control  ...       yes             Spanish\n",
              "8   546461  treatment  ...       yes              French\n",
              "9   546548    control  ...        no             English\n",
              "\n",
              "[10 rows x 6 columns]"
            ]
          },
          "metadata": {},
          "execution_count": 24
        }
      ]
    },
    {
      "cell_type": "markdown",
      "metadata": {
        "id": "KHOxnpP114PD"
      },
      "source": [
        "**Comment**\n",
        "\n",
        "The data contains 6 columns with headings listed below;\n",
        "- User Id\n",
        "- Group\n",
        "- Landing Page\n",
        "- Time Spent on the Page\n",
        "- Converted and\n",
        "- Language Preferred"
      ]
    },
    {
      "cell_type": "markdown",
      "metadata": {
        "id": "bh4vi1EU14PE"
      },
      "source": [
        "## Exploring the data to understand its structure and uncover data information\n",
        "- Check for the Shape of the data\n",
        "\n",
        "- Check statistical description of the data\n",
        " \n",
        "- Understand the data structure and data types.\n",
        " \n",
        "- Space in memory occupied by the data. "
      ]
    },
    {
      "cell_type": "code",
      "metadata": {
        "colab": {
          "base_uri": "https://localhost:8080/"
        },
        "id": "SmXbiMTP14PE",
        "outputId": "bc0eb7c7-5ba5-4525-ba2e-dba30f314c54"
      },
      "source": [
        "enews.shape\n",
        "print('The data has', enews.shape[0], 'rows and', enews.shape[1], 'columns')"
      ],
      "execution_count": null,
      "outputs": [
        {
          "output_type": "stream",
          "name": "stdout",
          "text": [
            "The data has 100 rows and 6 columns\n"
          ]
        }
      ]
    },
    {
      "cell_type": "code",
      "metadata": {
        "colab": {
          "base_uri": "https://localhost:8080/"
        },
        "id": "cMq8HDcL14PF",
        "outputId": "7459eece-1e5e-4b80-ee37-8518a57763e9"
      },
      "source": [
        "enews.info()"
      ],
      "execution_count": null,
      "outputs": [
        {
          "output_type": "stream",
          "name": "stdout",
          "text": [
            "<class 'pandas.core.frame.DataFrame'>\n",
            "RangeIndex: 100 entries, 0 to 99\n",
            "Data columns (total 6 columns):\n",
            " #   Column                  Non-Null Count  Dtype  \n",
            "---  ------                  --------------  -----  \n",
            " 0   user_id                 100 non-null    int64  \n",
            " 1   group                   100 non-null    object \n",
            " 2   landing_page            100 non-null    object \n",
            " 3   time_spent_on_the_page  100 non-null    float64\n",
            " 4   converted               100 non-null    object \n",
            " 5   language_preferred      100 non-null    object \n",
            "dtypes: float64(1), int64(1), object(4)\n",
            "memory usage: 4.8+ KB\n"
          ]
        }
      ]
    },
    {
      "cell_type": "markdown",
      "metadata": {
        "id": "aBywrNT_14PG"
      },
      "source": [
        "**Comment**\n",
        "- The data contains no missing values\n",
        "- Data types present are: float64, int64, object\n",
        "  - user_id: int64\n",
        "  - time_spent_on_the_page: float64\n",
        "  - group, landing_page, converted, language_preferred: object\n",
        "- Overall, there are four (4) objects, one (1) float64, and one (1) int64 data types available in the dataset\n",
        "- Memory Usage : approx. 4.8 KB"
      ]
    },
    {
      "cell_type": "code",
      "metadata": {
        "colab": {
          "base_uri": "https://localhost:8080/",
          "height": 300
        },
        "id": "Lsr1uzQB14PH",
        "outputId": "2e3ef60a-cb8a-45cd-8c7a-8e135d32791f"
      },
      "source": [
        "#Statistical Information of the data. descriptive analysis of numerical variables.\n",
        "enews.describe()"
      ],
      "execution_count": null,
      "outputs": [
        {
          "output_type": "execute_result",
          "data": {
            "text/html": [
              "<div>\n",
              "<style scoped>\n",
              "    .dataframe tbody tr th:only-of-type {\n",
              "        vertical-align: middle;\n",
              "    }\n",
              "\n",
              "    .dataframe tbody tr th {\n",
              "        vertical-align: top;\n",
              "    }\n",
              "\n",
              "    .dataframe thead th {\n",
              "        text-align: right;\n",
              "    }\n",
              "</style>\n",
              "<table border=\"1\" class=\"dataframe\">\n",
              "  <thead>\n",
              "    <tr style=\"text-align: right;\">\n",
              "      <th></th>\n",
              "      <th>user_id</th>\n",
              "      <th>time_spent_on_the_page</th>\n",
              "    </tr>\n",
              "  </thead>\n",
              "  <tbody>\n",
              "    <tr>\n",
              "      <th>count</th>\n",
              "      <td>100.000000</td>\n",
              "      <td>100.000000</td>\n",
              "    </tr>\n",
              "    <tr>\n",
              "      <th>mean</th>\n",
              "      <td>546517.000000</td>\n",
              "      <td>5.377800</td>\n",
              "    </tr>\n",
              "    <tr>\n",
              "      <th>std</th>\n",
              "      <td>52.295779</td>\n",
              "      <td>2.378166</td>\n",
              "    </tr>\n",
              "    <tr>\n",
              "      <th>min</th>\n",
              "      <td>546443.000000</td>\n",
              "      <td>0.190000</td>\n",
              "    </tr>\n",
              "    <tr>\n",
              "      <th>25%</th>\n",
              "      <td>546467.750000</td>\n",
              "      <td>3.880000</td>\n",
              "    </tr>\n",
              "    <tr>\n",
              "      <th>50%</th>\n",
              "      <td>546492.500000</td>\n",
              "      <td>5.415000</td>\n",
              "    </tr>\n",
              "    <tr>\n",
              "      <th>75%</th>\n",
              "      <td>546567.250000</td>\n",
              "      <td>7.022500</td>\n",
              "    </tr>\n",
              "    <tr>\n",
              "      <th>max</th>\n",
              "      <td>546592.000000</td>\n",
              "      <td>10.710000</td>\n",
              "    </tr>\n",
              "  </tbody>\n",
              "</table>\n",
              "</div>"
            ],
            "text/plain": [
              "             user_id  time_spent_on_the_page\n",
              "count     100.000000              100.000000\n",
              "mean   546517.000000                5.377800\n",
              "std        52.295779                2.378166\n",
              "min    546443.000000                0.190000\n",
              "25%    546467.750000                3.880000\n",
              "50%    546492.500000                5.415000\n",
              "75%    546567.250000                7.022500\n",
              "max    546592.000000               10.710000"
            ]
          },
          "metadata": {},
          "execution_count": 27
        }
      ]
    },
    {
      "cell_type": "markdown",
      "metadata": {
        "id": "PIn71ulS14PH"
      },
      "source": [
        "**Comment**\n",
        "- time_spent_on_the_page: \n",
        "  - Users spend an average time of 5.3778m on the site.\n",
        "  - There is an approximate standard deviation of 2.3782m between the time users spent on the site.\n",
        "  - Maximum time spent on the site: 10.71m\n",
        "  - Minimum time spent on the site: 0.19s\n",
        "  - 75% of the users spend about 7m on the site.\n",
        "  \n",
        "*m = minutes*\n",
        "\n",
        "*s = seconds*\n",
        "  "
      ]
    },
    {
      "cell_type": "markdown",
      "metadata": {
        "id": "5NTR95nD14PI"
      },
      "source": [
        "## Exploratory Data Analysis (EDA)\n",
        "\n",
        "- Univariate Analysis\n",
        "- Bivariate Analysis\n",
        "- Visualisations"
      ]
    },
    {
      "cell_type": "markdown",
      "metadata": {
        "id": "fkz-kBsO14PI"
      },
      "source": [
        "## Univariate Analysis"
      ]
    },
    {
      "cell_type": "code",
      "metadata": {
        "colab": {
          "base_uri": "https://localhost:8080/"
        },
        "id": "xx1U7lok14PJ",
        "outputId": "1094b28d-c65e-451f-d0ed-8ce71912099e"
      },
      "source": [
        "#viewing column names\n",
        "enews.columns"
      ],
      "execution_count": null,
      "outputs": [
        {
          "output_type": "execute_result",
          "data": {
            "text/plain": [
              "Index(['user_id', 'group', 'landing_page', 'time_spent_on_the_page',\n",
              "       'converted', 'language_preferred'],\n",
              "      dtype='object')"
            ]
          },
          "metadata": {},
          "execution_count": 28
        }
      ]
    },
    {
      "cell_type": "code",
      "metadata": {
        "colab": {
          "base_uri": "https://localhost:8080/"
        },
        "id": "Cpf3flRz14PJ",
        "outputId": "b1c59e4d-5a0d-47d6-87df-b4598a3535ec"
      },
      "source": [
        "#checking the categorical values in the group column\n",
        "enews['group'].unique()"
      ],
      "execution_count": null,
      "outputs": [
        {
          "output_type": "execute_result",
          "data": {
            "text/plain": [
              "array(['control', 'treatment'], dtype=object)"
            ]
          },
          "metadata": {},
          "execution_count": 29
        }
      ]
    },
    {
      "cell_type": "code",
      "metadata": {
        "colab": {
          "base_uri": "https://localhost:8080/"
        },
        "id": "MKK4yWAY14PJ",
        "outputId": "aa778863-0811-47a1-98a5-52976c080b14"
      },
      "source": [
        "enews['group'].value_counts()"
      ],
      "execution_count": null,
      "outputs": [
        {
          "output_type": "execute_result",
          "data": {
            "text/plain": [
              "treatment    50\n",
              "control      50\n",
              "Name: group, dtype: int64"
            ]
          },
          "metadata": {},
          "execution_count": 30
        }
      ]
    },
    {
      "cell_type": "markdown",
      "metadata": {
        "id": "Gj7k119f14PK"
      },
      "source": [
        "**Comment**\n",
        "\n",
        "- The group is divided into control and treatment.\n",
        "- Each category has 50 values."
      ]
    },
    {
      "cell_type": "code",
      "metadata": {
        "colab": {
          "base_uri": "https://localhost:8080/"
        },
        "id": "1EN10z3d14PK",
        "outputId": "b3f6eabd-ab3a-4f99-e6ec-4700cdc64c6c"
      },
      "source": [
        "#checking the categorical values in the landing page column\n",
        "enews['landing_page'].unique()"
      ],
      "execution_count": null,
      "outputs": [
        {
          "output_type": "execute_result",
          "data": {
            "text/plain": [
              "array(['old', 'new'], dtype=object)"
            ]
          },
          "metadata": {},
          "execution_count": 31
        }
      ]
    },
    {
      "cell_type": "code",
      "metadata": {
        "scrolled": true,
        "colab": {
          "base_uri": "https://localhost:8080/"
        },
        "id": "a6xm3geR14PL",
        "outputId": "237be907-7b84-4c30-8113-0134473f01b1"
      },
      "source": [
        "enews['landing_page'].value_counts()"
      ],
      "execution_count": null,
      "outputs": [
        {
          "output_type": "execute_result",
          "data": {
            "text/plain": [
              "new    50\n",
              "old    50\n",
              "Name: landing_page, dtype: int64"
            ]
          },
          "metadata": {},
          "execution_count": 32
        }
      ]
    },
    {
      "cell_type": "code",
      "metadata": {
        "colab": {
          "base_uri": "https://localhost:8080/",
          "height": 405
        },
        "id": "Xa0SyqcF14PL",
        "outputId": "26cbf3f2-986b-4f91-908a-b48bbc1e687a"
      },
      "source": [
        "#creating visualization.\n",
        "plt.figure(figsize=(8,5))\n",
        "ax = sns.countplot(enews['landing_page'])\n",
        "plt.title('Enews Landing Pages')\n",
        "for p in ax.patches:\n",
        "    ax.annotate(f'\\n{p.get_height()}', (p.get_x()+0.2, p.get_height()), ha='center', va='top', color='white', size=18)\n",
        "plt.show()"
      ],
      "execution_count": null,
      "outputs": [
        {
          "output_type": "stream",
          "name": "stderr",
          "text": [
            "/usr/local/lib/python3.7/dist-packages/seaborn/_decorators.py:43: FutureWarning: Pass the following variable as a keyword arg: x. From version 0.12, the only valid positional argument will be `data`, and passing other arguments without an explicit keyword will result in an error or misinterpretation.\n",
            "  FutureWarning\n"
          ]
        },
        {
          "output_type": "display_data",
          "data": {
            "image/png": "[encoded data removed]",
            "text/plain": [
              "<Figure size 576x360 with 1 Axes>"
            ]
          },
          "metadata": {}
        }
      ]
    },
    {
      "cell_type": "markdown",
      "metadata": {
        "id": "Ef34Drg814PM"
      },
      "source": [
        "**Comment**\n",
        "\n",
        "- The  landing page is divided into old and new.\n",
        "- Each category has 50 values."
      ]
    },
    {
      "cell_type": "code",
      "metadata": {
        "colab": {
          "base_uri": "https://localhost:8080/"
        },
        "id": "ixYZmp2L14PM",
        "outputId": "572b5351-6264-4bde-ae6b-e4268e8244b9"
      },
      "source": [
        "#checking the categorical values in the converted column\n",
        "enews['converted'].unique()"
      ],
      "execution_count": null,
      "outputs": [
        {
          "output_type": "execute_result",
          "data": {
            "text/plain": [
              "array(['no', 'yes'], dtype=object)"
            ]
          },
          "metadata": {},
          "execution_count": 34
        }
      ]
    },
    {
      "cell_type": "code",
      "metadata": {
        "colab": {
          "base_uri": "https://localhost:8080/"
        },
        "id": "cRvqZlYY14PN",
        "outputId": "1ff523b8-1f1d-4377-d842-34caf4a34935"
      },
      "source": [
        "enews['converted'].value_counts()"
      ],
      "execution_count": null,
      "outputs": [
        {
          "output_type": "execute_result",
          "data": {
            "text/plain": [
              "yes    54\n",
              "no     46\n",
              "Name: converted, dtype: int64"
            ]
          },
          "metadata": {},
          "execution_count": 35
        }
      ]
    },
    {
      "cell_type": "code",
      "metadata": {
        "colab": {
          "base_uri": "https://localhost:8080/",
          "height": 405
        },
        "id": "7_qkQLmO14PN",
        "outputId": "45466202-97a8-4af8-c34f-441d27f8c1eb"
      },
      "source": [
        "#creating visualization.\n",
        "plt.figure(figsize=(8,5))\n",
        "ax = sns.countplot(enews['converted'])\n",
        "plt.title('Converted: No vs Yes')\n",
        "for p in ax.patches:\n",
        "    ax.annotate(f'\\n{p.get_height()}', (p.get_x()+0.2, p.get_height()), ha='center', va='top', color='white', size=18)\n",
        "plt.show()"
      ],
      "execution_count": null,
      "outputs": [
        {
          "output_type": "stream",
          "name": "stderr",
          "text": [
            "/usr/local/lib/python3.7/dist-packages/seaborn/_decorators.py:43: FutureWarning: Pass the following variable as a keyword arg: x. From version 0.12, the only valid positional argument will be `data`, and passing other arguments without an explicit keyword will result in an error or misinterpretation.\n",
            "  FutureWarning\n"
          ]
        },
        {
          "output_type": "display_data",
          "data": {
            "image/png": "[encoded data removed]",
            "text/plain": [
              "<Figure size 576x360 with 1 Axes>"
            ]
          },
          "metadata": {}
        }
      ]
    },
    {
      "cell_type": "markdown",
      "metadata": {
        "id": "Mdp-lerq14PN"
      },
      "source": [
        "**Comment**\n",
        "\n",
        "- The converted column has both **'yes'** and **'no'** categories.\n",
        "\n",
        "- 54 of the users were converted to subscribers while the remaining 46 are yet to be converted."
      ]
    },
    {
      "cell_type": "code",
      "metadata": {
        "colab": {
          "base_uri": "https://localhost:8080/"
        },
        "id": "M0q17r2714PN",
        "outputId": "cbb352d9-77ce-4c5a-f3ee-1156f969fe33"
      },
      "source": [
        "#checking the categorical values in the converted column\n",
        "enews['language_preferred'].unique()"
      ],
      "execution_count": null,
      "outputs": [
        {
          "output_type": "execute_result",
          "data": {
            "text/plain": [
              "array(['Spanish', 'English', 'French'], dtype=object)"
            ]
          },
          "metadata": {},
          "execution_count": 37
        }
      ]
    },
    {
      "cell_type": "code",
      "metadata": {
        "scrolled": true,
        "colab": {
          "base_uri": "https://localhost:8080/"
        },
        "id": "rhfospce14PO",
        "outputId": "0f959f04-e474-4406-9edf-4e0dd8d6992b"
      },
      "source": [
        "enews['language_preferred'].value_counts()"
      ],
      "execution_count": null,
      "outputs": [
        {
          "output_type": "execute_result",
          "data": {
            "text/plain": [
              "French     34\n",
              "Spanish    34\n",
              "English    32\n",
              "Name: language_preferred, dtype: int64"
            ]
          },
          "metadata": {},
          "execution_count": 38
        }
      ]
    },
    {
      "cell_type": "code",
      "metadata": {
        "colab": {
          "base_uri": "https://localhost:8080/",
          "height": 405
        },
        "id": "iOxkrvkJ14PO",
        "outputId": "aa2486d0-1215-417c-a94f-e1b5dbb869b9"
      },
      "source": [
        "#creating visualization.\n",
        "plt.figure(figsize=(8,5))\n",
        "ax = sns.countplot(enews['language_preferred'])\n",
        "plt.title('Users Preferred Language')\n",
        "for p in ax.patches:\n",
        "    ax.annotate(f'\\n{p.get_height()}', (p.get_x()+0.2, p.get_height()), ha='center', va='top', color='white', size=18)\n",
        "plt.show()"
      ],
      "execution_count": null,
      "outputs": [
        {
          "output_type": "stream",
          "name": "stderr",
          "text": [
            "/usr/local/lib/python3.7/dist-packages/seaborn/_decorators.py:43: FutureWarning: Pass the following variable as a keyword arg: x. From version 0.12, the only valid positional argument will be `data`, and passing other arguments without an explicit keyword will result in an error or misinterpretation.\n",
            "  FutureWarning\n"
          ]
        },
        {
          "output_type": "display_data",
          "data": {
            "image/png": "[encoded data removed]",
            "text/plain": [
              "<Figure size 576x360 with 1 Axes>"
            ]
          },
          "metadata": {}
        }
      ]
    },
    {
      "cell_type": "markdown",
      "metadata": {
        "id": "RXOR0Aag14PP"
      },
      "source": [
        "**Comment**\n",
        "\n",
        "- The language column contains three (3) categories; Spanish, French and English.\n",
        "\n",
        "- Users preferred language distribution are.\n",
        "  \n",
        "  - Spanish    **34** Users\n",
        "  \n",
        "  - French     **34** Users\n",
        "  \n",
        "  - English    **32** Users"
      ]
    },
    {
      "cell_type": "code",
      "metadata": {
        "scrolled": true,
        "colab": {
          "base_uri": "https://localhost:8080/",
          "height": 352
        },
        "id": "ASqefcMJ14PP",
        "outputId": "8a4653b2-9a99-4c85-8da9-27abc05ebfea"
      },
      "source": [
        "sns.distplot(enews['time_spent_on_the_page'], bins = 'auto', color='g', label='Time Spent On The Page',  hist=False)"
      ],
      "execution_count": null,
      "outputs": [
        {
          "output_type": "stream",
          "name": "stderr",
          "text": [
            "/usr/local/lib/python3.7/dist-packages/seaborn/distributions.py:2619: FutureWarning: `distplot` is a deprecated function and will be removed in a future version. Please adapt your code to use either `displot` (a figure-level function with similar flexibility) or `kdeplot` (an axes-level function for kernel density plots).\n",
            "  warnings.warn(msg, FutureWarning)\n"
          ]
        },
        {
          "output_type": "execute_result",
          "data": {
            "text/plain": [
              "<matplotlib.axes._subplots.AxesSubplot at 0x7f290fdbfa90>"
            ]
          },
          "metadata": {},
          "execution_count": 40
        },
        {
          "output_type": "display_data",
          "data": {
            "image/png": "[encoded data removed]",
            "text/plain": [
              "<Figure size 432x288 with 1 Axes>"
            ]
          },
          "metadata": {}
        }
      ]
    },
    {
      "cell_type": "markdown",
      "metadata": {
        "id": "u8a2xYG714PP"
      },
      "source": [
        "**Comment**\n",
        "\n",
        "The time spent on the site is uniformly distributed among the users."
      ]
    },
    {
      "cell_type": "code",
      "metadata": {
        "colab": {
          "base_uri": "https://localhost:8080/",
          "height": 386
        },
        "id": "WB9QpZbb14PP",
        "outputId": "3f5738aa-7676-4254-9209-90893e9d0e6a"
      },
      "source": [
        "#using boxplot to check for outliers\n",
        "sns.boxplot(enews['time_spent_on_the_page'],orient='v', palette=\"Set2\")"
      ],
      "execution_count": null,
      "outputs": [
        {
          "output_type": "stream",
          "name": "stderr",
          "text": [
            "/usr/local/lib/python3.7/dist-packages/seaborn/_decorators.py:43: FutureWarning: Pass the following variable as a keyword arg: x. From version 0.12, the only valid positional argument will be `data`, and passing other arguments without an explicit keyword will result in an error or misinterpretation.\n",
            "  FutureWarning\n",
            "/usr/local/lib/python3.7/dist-packages/seaborn/_core.py:1326: UserWarning: Vertical orientation ignored with only `x` specified.\n",
            "  warnings.warn(single_var_warning.format(\"Vertical\", \"x\"))\n"
          ]
        },
        {
          "output_type": "execute_result",
          "data": {
            "text/plain": [
              "<matplotlib.axes._subplots.AxesSubplot at 0x7f290dadc510>"
            ]
          },
          "metadata": {},
          "execution_count": 41
        },
        {
          "output_type": "display_data",
          "data": {
            "image/png": "[encoded data removed]",
            "text/plain": [
              "<Figure size 432x288 with 1 Axes>"
            ]
          },
          "metadata": {}
        }
      ]
    },
    {
      "cell_type": "markdown",
      "metadata": {
        "id": "dq4rM38b14PQ"
      },
      "source": [
        "**Comment**\n",
        "\n",
        "No outlier exists in the time spent on the site"
      ]
    },
    {
      "cell_type": "markdown",
      "metadata": {
        "id": "cTlrEV7f14PQ"
      },
      "source": [
        "## Bivariate Analysis\n",
        "\n",
        "- Users Converted vs Time Spent on the Page\n",
        "- Users Preferred Language vs Time Spent on the Page\n",
        "- User Group vs Time Spent on the Page\n",
        "- Landing Page vs Time Spent on the Page\n",
        "- Correlation Heatmap"
      ]
    },
    {
      "cell_type": "code",
      "metadata": {
        "scrolled": true,
        "colab": {
          "base_uri": "https://localhost:8080/",
          "height": 369
        },
        "id": "iczczv2q14PQ",
        "outputId": "beb89ee4-7340-4077-9186-0872b5fb99b7"
      },
      "source": [
        "fig, axes = plt.subplots(nrows = 2, ncols = 2, figsize =(8,5))\n",
        "axes[0,0].scatter(enews['converted'],enews['time_spent_on_the_page'])\n",
        "axes[0,1].scatter(enews['language_preferred'],enews['time_spent_on_the_page'])\n",
        "axes[1,0].scatter(enews['group'],enews['time_spent_on_the_page'])\n",
        "axes[1,1].scatter(enews['landing_page'],enews['time_spent_on_the_page'])\n",
        "axes[0,0].set_title('Users Converted vs Time Spent on the Page')\n",
        "axes[0,1].set_title('Users Preferred Language vs Time Spent on the Page')\n",
        "axes[1,0].set_title('User Group vs Time Spent on the Page')\n",
        "axes[1,1].set_title('Landing Page vs Time Spent on the Page')\n",
        "plt.tight_layout()\n"
      ],
      "execution_count": null,
      "outputs": [
        {
          "output_type": "display_data",
          "data": {
            "image/png": "[encoded data removed]",
            "text/plain": [
              "<Figure size 576x360 with 4 Axes>"
            ]
          },
          "metadata": {}
        }
      ]
    },
    {
      "cell_type": "markdown",
      "metadata": {
        "id": "y4SK_P6s14PQ"
      },
      "source": [
        "**Comment**\n",
        "\n",
        "**Users Converted vs Time Spent on the Page**\n",
        "- Converted Users spend more time on the page than Non-Converted Users\n",
        "- Most Converted Users average around 5.7 - 7.8 mins on the pages while Nonn-Converted Users average around 2.4 - 4mins\n",
        "\n",
        "**Users Preferred Language vs Time Spent on the Page**\n",
        "\n",
        "- **Spanish Users**: Spend less time on the page.\n",
        "\n",
        "- **French and  English Users**: Spend the most time on the page\n",
        "\n",
        "**User Group vs Time Spent on the Page**\n",
        "\n",
        "**Treatment Group**\n",
        " - the treatment group spend the most time on the site.\n",
        " - They spend a maximum time greater than the Users on the Control group \n",
        " \n",
        "**Control Group**\n",
        "  -  Some Users spend a minimum time less than 1 minute.\n",
        "  - Average time concentration is about 3.8 - 4.5 mins.\n",
        "  - Maximum time spent on the pages by these users is less than that of the treament group\n",
        "\n",
        "\n",
        "\n",
        "**Landing Page vs Time Spent on the Page**\n",
        "- More time is spent on the new landing page than the old.\n",
        "- users seem to like certain features of this new page more."
      ]
    },
    {
      "cell_type": "code",
      "metadata": {
        "scrolled": true,
        "colab": {
          "base_uri": "https://localhost:8080/",
          "height": 284
        },
        "id": "B8UhCxyj14PR",
        "outputId": "1b41d359-ecd1-44fb-f012-b1bcae53119e"
      },
      "source": [
        "plt.figure(figsize=(10, 4))\n",
        "sns.heatmap(enews.corr(), annot=True, vmin=-1, vmax=1, fmt=\".2f\", cbar=False, cmap=\"icefire\")\n",
        "plt.show()\n",
        "plt.tight_layout()"
      ],
      "execution_count": null,
      "outputs": [
        {
          "output_type": "display_data",
          "data": {
            "image/png": "[encoded data removed]",
            "text/plain": [
              "<Figure size 720x288 with 1 Axes>"
            ]
          },
          "metadata": {}
        },
        {
          "output_type": "display_data",
          "data": {
            "text/plain": [
              "<Figure size 432x288 with 0 Axes>"
            ]
          },
          "metadata": {}
        }
      ]
    },
    {
      "cell_type": "markdown",
      "metadata": {
        "id": "M3sGRVjP14PR"
      },
      "source": [
        "**Comment**\n",
        "\n",
        "- There appears not to be any strong correlation between the users and the time spent on the pages."
      ]
    },
    {
      "cell_type": "code",
      "metadata": {
        "scrolled": true,
        "colab": {
          "base_uri": "https://localhost:8080/",
          "height": 313
        },
        "id": "3cQBcap414PR",
        "outputId": "d62c6748-6739-4889-dcc1-1a7f86c7fc3a"
      },
      "source": [
        "plt.figure(figsize=(10, 4))\n",
        "sns.lineplot(data=enews, x= 'user_id', y = 'time_spent_on_the_page')\n",
        "plt.title('users vs time_spent_on_the_page')"
      ],
      "execution_count": null,
      "outputs": [
        {
          "output_type": "execute_result",
          "data": {
            "text/plain": [
              "Text(0.5, 1.0, 'users vs time_spent_on_the_page')"
            ]
          },
          "metadata": {},
          "execution_count": 44
        },
        {
          "output_type": "display_data",
          "data": {
            "image/png": "[encoded data removed]",
            "text/plain": [
              "<Figure size 720x288 with 1 Axes>"
            ]
          },
          "metadata": {}
        }
      ]
    },
    {
      "cell_type": "markdown",
      "metadata": {
        "id": "iF1Ui69h14PS"
      },
      "source": [
        "**Comment**\n",
        "\n",
        "- No unique pattern or trend in the time spent on the pages amongst users"
      ]
    },
    {
      "cell_type": "code",
      "metadata": {
        "scrolled": false,
        "colab": {
          "base_uri": "https://localhost:8080/",
          "height": 313
        },
        "id": "KsAgJ1mP14PS",
        "outputId": "569baa3f-8c61-49db-e432-f1157432d461"
      },
      "source": [
        "plt.figure(figsize=(10, 4))\n",
        "sns.lineplot(data=enews, x= 'user_id', y = 'time_spent_on_the_page', hue = 'landing_page')\n",
        "plt.title('users vs time_spent_on_the_page')"
      ],
      "execution_count": null,
      "outputs": [
        {
          "output_type": "execute_result",
          "data": {
            "text/plain": [
              "Text(0.5, 1.0, 'users vs time_spent_on_the_page')"
            ]
          },
          "metadata": {},
          "execution_count": 45
        },
        {
          "output_type": "display_data",
          "data": {
            "image/png": "[encoded data removed]",
            "text/plain": [
              "<Figure size 720x288 with 1 Axes>"
            ]
          },
          "metadata": {}
        }
      ]
    },
    {
      "cell_type": "markdown",
      "metadata": {
        "id": "iT734Mrs14PS"
      },
      "source": [
        "**Comment**\n",
        "\n",
        "- There exist an haphazard trend in the time spent by the users on both pages.\n",
        "- The new page has the overall highest and cummulative time spent on the page."
      ]
    },
    {
      "cell_type": "code",
      "metadata": {
        "scrolled": true,
        "colab": {
          "base_uri": "https://localhost:8080/",
          "height": 313
        },
        "id": "DyOSy5nR14PS",
        "outputId": "89d3fcd3-a6c9-45ac-9dfd-994c41d5dfed"
      },
      "source": [
        "plt.figure(figsize=(10, 4))\n",
        "sns.lineplot(data=enews, x= 'user_id', y = 'time_spent_on_the_page', hue = 'converted')\n",
        "plt.title('users vs time_spent_on_the_page')"
      ],
      "execution_count": null,
      "outputs": [
        {
          "output_type": "execute_result",
          "data": {
            "text/plain": [
              "Text(0.5, 1.0, 'users vs time_spent_on_the_page')"
            ]
          },
          "metadata": {},
          "execution_count": 46
        },
        {
          "output_type": "display_data",
          "data": {
            "image/png": "[encoded data removed]",
            "text/plain": [
              "<Figure size 720x288 with 1 Axes>"
            ]
          },
          "metadata": {}
        }
      ]
    },
    {
      "cell_type": "markdown",
      "metadata": {
        "id": "mQIFD1xx14PT"
      },
      "source": [
        "**Comment**\n",
        "\n",
        "- The Converted Users maintained an higher trend in the time spent on the page than the Non-Converted Users"
      ]
    },
    {
      "cell_type": "markdown",
      "metadata": {
        "id": "dwzdmMOz14PT"
      },
      "source": [
        "## Business Insights and Statistical Analysis\n",
        "\n",
        "#### Business Questions:\n",
        "\n",
        "- Do the users spend more time on the new landing page than the old landing page?\n",
        "- Is the conversion rate (the proportion of users who visit the landing page and get converted) for the new page greater than the conversion rate for the old page?\n",
        "- Does the converted status depend on the preferred language?\n",
        "- Is the mean time spent on the new page same for the different language users?\n",
        "\n",
        "#### **STATISTICAL ANALYSIS:**\n",
        "\n",
        "- Statistical analysis will be performed using the following parameters.\n",
        "  - The number of users (n) = 100 (treated as a sample size)\n",
        "  - Alpha level = 0.05. i.e α = 5%\n",
        "  - Standard deviation of time spent on page = 2.378166 **(retrieved from enews.describe() table)**\n",
        "  - Variable mean: taken from respective crosstabs for each variables\n",
        "  - Z Score to be determined.\n",
        "  - p-value to be determined.\n",
        "  \n",
        "  "
      ]
    },
    {
      "cell_type": "markdown",
      "metadata": {
        "id": "VelI47Hz14PT"
      },
      "source": [
        "**1.         Do the users spend more time on the new landing page than the old landing page?**"
      ]
    },
    {
      "cell_type": "code",
      "metadata": {
        "id": "RAbYMYSh14PU"
      },
      "source": [
        "def reject_or_not(p_value): #creating a function to tell us whether to reject or fail to reject\n",
        "# print the conclusion based on p-value\n",
        "    if p_value < 0.05:\n",
        "        print(f'SInce the p-value {p_value} is less than the level of significance, we reject the null hypothesis.')\n",
        "    else:\n",
        "        print(f'SInce the p-value {p_value} is greater than the level of significance, we fail to reject the null hypothesis.')"
      ],
      "execution_count": null,
      "outputs": []
    },
    {
      "cell_type": "code",
      "metadata": {
        "scrolled": false,
        "colab": {
          "base_uri": "https://localhost:8080/",
          "height": 472
        },
        "id": "RLjac2Sa14PU",
        "outputId": "b20bb293-14d3-497b-bf4b-6ea2fcd2a78e"
      },
      "source": [
        "plt.figure(figsize=(6,6))\n",
        "ax = sns.boxplot(x= \"group\", y = 'time_spent_on_the_page' , data = enews, hue = 'group')\n",
        "ax.set_title(\"Groups vs Time Spent On The Page\", fontsize=10)\n",
        "plt.show()\n",
        "\n",
        "enews.groupby('group')['time_spent_on_the_page'].mean()"
      ],
      "execution_count": null,
      "outputs": [
        {
          "output_type": "display_data",
          "data": {
            "image/png": "[encoded data removed]",
            "text/plain": [
              "<Figure size 432x432 with 1 Axes>"
            ]
          },
          "metadata": {}
        },
        {
          "output_type": "execute_result",
          "data": {
            "text/plain": [
              "group\n",
              "control      4.5324\n",
              "treatment    6.2232\n",
              "Name: time_spent_on_the_page, dtype: float64"
            ]
          },
          "metadata": {},
          "execution_count": 79
        }
      ]
    },
    {
      "cell_type": "markdown",
      "metadata": {
        "id": "1OjTbpOz14PU"
      },
      "source": [
        "**Comment**\n",
        "\n",
        "**The treatment group has the highest avaerage, minimum and overall maximum time spent on the page.**\n",
        "\n",
        "*The Treatment group spent the most time on the page*"
      ]
    },
    {
      "cell_type": "code",
      "metadata": {
        "colab": {
          "base_uri": "https://localhost:8080/",
          "height": 513
        },
        "id": "9nCm2jtz14PV",
        "outputId": "d6f10990-a375-4b7f-bbf9-d9ae53bcaa74"
      },
      "source": [
        "plt.figure(figsize=(6,6))\n",
        "sns.boxplot(enews[\"landing_page\"], enews[\"time_spent_on_the_page\"], showmeans=True)\n",
        "plt.show()\n",
        "enews.groupby(\"landing_page\")['time_spent_on_the_page'].mean()"
      ],
      "execution_count": null,
      "outputs": [
        {
          "output_type": "stream",
          "name": "stderr",
          "text": [
            "/usr/local/lib/python3.7/dist-packages/seaborn/_decorators.py:43: FutureWarning: Pass the following variables as keyword args: x, y. From version 0.12, the only valid positional argument will be `data`, and passing other arguments without an explicit keyword will result in an error or misinterpretation.\n",
            "  FutureWarning\n"
          ]
        },
        {
          "output_type": "display_data",
          "data": {
            "image/png": "[encoded data removed]",
            "text/plain": [
              "<Figure size 432x432 with 1 Axes>"
            ]
          },
          "metadata": {}
        },
        {
          "output_type": "execute_result",
          "data": {
            "text/plain": [
              "landing_page\n",
              "new    6.2232\n",
              "old    4.5324\n",
              "Name: time_spent_on_the_page, dtype: float64"
            ]
          },
          "metadata": {},
          "execution_count": 80
        }
      ]
    },
    {
      "cell_type": "markdown",
      "metadata": {
        "id": "diUoY7Zt14PV"
      },
      "source": [
        "**Comment**\n",
        "\n",
        "**The users spend more time on the new landing page compared to the old landing page**"
      ]
    },
    {
      "cell_type": "code",
      "metadata": {
        "scrolled": true,
        "colab": {
          "base_uri": "https://localhost:8080/",
          "height": 144
        },
        "id": "n3JIEdPy14PV",
        "outputId": "41419263-24ba-404b-807b-55aa1f230d62"
      },
      "source": [
        "enews.groupby('landing_page', axis = 0 ).sum()"
      ],
      "execution_count": null,
      "outputs": [
        {
          "output_type": "execute_result",
          "data": {
            "text/html": [
              "<div>\n",
              "<style scoped>\n",
              "    .dataframe tbody tr th:only-of-type {\n",
              "        vertical-align: middle;\n",
              "    }\n",
              "\n",
              "    .dataframe tbody tr th {\n",
              "        vertical-align: top;\n",
              "    }\n",
              "\n",
              "    .dataframe thead th {\n",
              "        text-align: right;\n",
              "    }\n",
              "</style>\n",
              "<table border=\"1\" class=\"dataframe\">\n",
              "  <thead>\n",
              "    <tr style=\"text-align: right;\">\n",
              "      <th></th>\n",
              "      <th>user_id</th>\n",
              "      <th>time_spent_on_the_page</th>\n",
              "    </tr>\n",
              "    <tr>\n",
              "      <th>landing_page</th>\n",
              "      <th></th>\n",
              "      <th></th>\n",
              "    </tr>\n",
              "  </thead>\n",
              "  <tbody>\n",
              "    <tr>\n",
              "      <th>new</th>\n",
              "      <td>27323375</td>\n",
              "      <td>311.16</td>\n",
              "    </tr>\n",
              "    <tr>\n",
              "      <th>old</th>\n",
              "      <td>27328325</td>\n",
              "      <td>226.62</td>\n",
              "    </tr>\n",
              "  </tbody>\n",
              "</table>\n",
              "</div>"
            ],
            "text/plain": [
              "               user_id  time_spent_on_the_page\n",
              "landing_page                                  \n",
              "new           27323375                  311.16\n",
              "old           27328325                  226.62"
            ]
          },
          "metadata": {},
          "execution_count": 81
        }
      ]
    },
    {
      "cell_type": "markdown",
      "metadata": {
        "id": "SLaGH9Gq14PV"
      },
      "source": [
        "**Comment**\n",
        "\n",
        "- Users spend a total of 311.16 minutes on the new page\n",
        "- Users spend a total of 226.62 minutes on the old page.\n",
        "\n",
        "**Insights**\n",
        "\n",
        "- Users prefer the new landing page\n",
        "- They spend more time on the new landing page\n"
      ]
    },
    {
      "cell_type": "markdown",
      "metadata": {
        "id": "CoyFhIYF14PW"
      },
      "source": [
        " **STATISTICAL ANALYSIS:**"
      ]
    },
    {
      "cell_type": "code",
      "metadata": {
        "scrolled": true,
        "colab": {
          "base_uri": "https://localhost:8080/",
          "height": 144
        },
        "id": "UajHFdwR14PW",
        "outputId": "3d4ce1df-da31-4389-aba3-b67ff2ced3c6"
      },
      "source": [
        "enews.groupby('landing_page', axis = 0 ).mean() #calculating the mean of user time spend on different pages"
      ],
      "execution_count": null,
      "outputs": [
        {
          "output_type": "execute_result",
          "data": {
            "text/html": [
              "<div>\n",
              "<style scoped>\n",
              "    .dataframe tbody tr th:only-of-type {\n",
              "        vertical-align: middle;\n",
              "    }\n",
              "\n",
              "    .dataframe tbody tr th {\n",
              "        vertical-align: top;\n",
              "    }\n",
              "\n",
              "    .dataframe thead th {\n",
              "        text-align: right;\n",
              "    }\n",
              "</style>\n",
              "<table border=\"1\" class=\"dataframe\">\n",
              "  <thead>\n",
              "    <tr style=\"text-align: right;\">\n",
              "      <th></th>\n",
              "      <th>user_id</th>\n",
              "      <th>time_spent_on_the_page</th>\n",
              "    </tr>\n",
              "    <tr>\n",
              "      <th>landing_page</th>\n",
              "      <th></th>\n",
              "      <th></th>\n",
              "    </tr>\n",
              "  </thead>\n",
              "  <tbody>\n",
              "    <tr>\n",
              "      <th>new</th>\n",
              "      <td>546467.5</td>\n",
              "      <td>6.2232</td>\n",
              "    </tr>\n",
              "    <tr>\n",
              "      <th>old</th>\n",
              "      <td>546566.5</td>\n",
              "      <td>4.5324</td>\n",
              "    </tr>\n",
              "  </tbody>\n",
              "</table>\n",
              "</div>"
            ],
            "text/plain": [
              "               user_id  time_spent_on_the_page\n",
              "landing_page                                  \n",
              "new           546467.5                  6.2232\n",
              "old           546566.5                  4.5324"
            ]
          },
          "metadata": {},
          "execution_count": 82
        }
      ]
    },
    {
      "cell_type": "markdown",
      "metadata": {
        "id": "UHSWlXZE14PW"
      },
      "source": [
        "### Hypothesis Fomulation:\n",
        "\n",
        "**Null Hypothesis**\n",
        "\n",
        ">$H_0$ = Users do not spend more time on the new landing page than on the old landing page.\n",
        "\n",
        " - $µ_0$ = $µ_a$\n",
        "\n",
        "**Alternate Hypothesis**\n",
        "\n",
        ">$H_a$ = Users spend more time on the new landing page than on the old landing page\n",
        "\n",
        " - $µ_a$ ≠ $µ_0$"
      ]
    },
    {
      "cell_type": "code",
      "metadata": {
        "colab": {
          "base_uri": "https://localhost:8080/"
        },
        "id": "zqzZNL0R14PW",
        "outputId": "9c215f9b-a4ba-4ca3-9d6b-9dab306e8fb4"
      },
      "source": [
        "# Extracting time spent by group users\n",
        "treat_time = np.array(enews[enews.group == 'treatment'].time_spent_on_the_page)  \n",
        "control_time = np.array(enews[enews.group == 'control'].time_spent_on_the_page)\n",
        "\n",
        "# Computing an Independent t-test\n",
        "ttest, p_value  = stats.ttest_ind(treat_time,control_time)\n",
        "\n",
        "print(\"The P-value is\",p_value)"
      ],
      "execution_count": null,
      "outputs": [
        {
          "output_type": "stream",
          "name": "stdout",
          "text": [
            "The P-value is 0.000263224705619001\n"
          ]
        }
      ]
    },
    {
      "cell_type": "code",
      "metadata": {
        "scrolled": true,
        "colab": {
          "base_uri": "https://localhost:8080/"
        },
        "id": "YTTslAnp14PX",
        "outputId": "b3d4b798-6111-43c8-9ec5-1fbab8c31fcc"
      },
      "source": [
        "# import the required function\n",
        "from scipy.stats import norm\n",
        "\n",
        "# find the critical values\n",
        "critical_val1 = norm.ppf(1-(0.05/2))\n",
        "critical_val2 = norm.ppf(0.05/2)\n",
        "\n",
        "# plot the rejection and acceptance region\n",
        "# We are plotting the distributions here to better visualize the calculations\n",
        "x = np.linspace(-4, 4, 100) # create an array of 100 numbers starting from -4 and ending at 4\n",
        "plt.plot(x, norm.pdf(x, 0, 1), c='b') # plot the pdf of the normal distribution\n",
        "plt.axvline(x = critical_val1, c = 'r') # draw a vertical red line through the mentioned point\n",
        "x1 = np.linspace(critical_val1, 4, 50) # create an array of 50 numbers starting from the critical value and ending at 4\n",
        "plt.fill_between(x1, norm.pdf(x1, 0, 1), color='r') # fill the area under the curve after the critical value with red color\n",
        "plt.axvline(x = critical_val2, c = 'r') # draw a vertical red line through the mentioned point\n",
        "x1 = np.linspace(-4, critical_val2, 50) # create an array of 50 numbers starting from -4 and ending at the critical value\n",
        "plt.fill_between(x1, norm.pdf(x1, 0, 1), color='r') # fill the area under the curve before the critical value with red color\n",
        "plt.annotate('Reject Null', (2.2, 0.20)) # annotate the mentioned text at the mentioned location\n",
        "plt.annotate('Reject Null', (-3.5, 0.20)) # annotate the mentioned text at the mentioned location\n",
        "plt.annotate('  Do Not Reject\\n        Null', (-1, 0.20)) # annotate the mentioned text at the mentioned location\n",
        "plt.annotate('P-value (~ 0.0002632247) falls around here- (far beyond chance zone)', (3.5, 0.0002), c='b')\n",
        "plt.annotate('P-value (~ -0.0002632247)', (-3.5, -0.0002), c='b')\n",
        "plt.title('P-value (~ -0.0002632247)')\n",
        "plt.show() # display the plot"
      ],
      "execution_count": null,
      "outputs": [
        {
          "output_type": "display_data",
          "data": {
            "image/png": "[encoded data removed]",
            "text/plain": [
              "<Figure size 432x288 with 1 Axes>"
            ]
          },
          "metadata": {}
        }
      ]
    },
    {
      "cell_type": "code",
      "metadata": {
        "colab": {
          "base_uri": "https://localhost:8080/"
        },
        "id": "XRRicP3B14PX",
        "outputId": "99dbd211-929a-4b39-f724-c388ee50de3e"
      },
      "source": [
        "reject_or_not(0.000263224705619001)"
      ],
      "execution_count": null,
      "outputs": [
        {
          "output_type": "stream",
          "name": "stdout",
          "text": [
            "SInce the p-value 0.000263224705619001 is less than the level of significance, we reject the null hypothesis.\n"
          ]
        }
      ]
    },
    {
      "cell_type": "markdown",
      "metadata": {
        "id": "Pci_dMSD14PX"
      },
      "source": [
        "**Statistical Analysis Interpretation**\n",
        "\n",
        "- We **Reject the Null Hypothesis** since the Two tailed P_value (0.000263224705619001) is lesser than the significance level (α =0.05). \n",
        "\n",
        "- **Therefore: Users really spend more time on the new page than one the old page**"
      ]
    },
    {
      "cell_type": "markdown",
      "metadata": {
        "id": "0MWCT-qJ14PY"
      },
      "source": [
        "**2.  Is the conversion rate (the proportion of users who visit the landing page and get converted) for the new page greater than the conversion rate for the old page?**"
      ]
    },
    {
      "cell_type": "code",
      "metadata": {
        "scrolled": true,
        "colab": {
          "base_uri": "https://localhost:8080/"
        },
        "id": "5VfrVVJ914PY",
        "outputId": "c998cf77-6003-4e27-fb33-152152520167"
      },
      "source": [
        "#Using pandas crosstab to check for converted users' preferred landing page\n",
        "pd.crosstab(enews['converted'], enews['landing_page'])"
      ],
      "execution_count": null,
      "outputs": [
        {
          "output_type": "execute_result",
          "data": {
            "text/html": [
              "<div>\n",
              "<style scoped>\n",
              "    .dataframe tbody tr th:only-of-type {\n",
              "        vertical-align: middle;\n",
              "    }\n",
              "\n",
              "    .dataframe tbody tr th {\n",
              "        vertical-align: top;\n",
              "    }\n",
              "\n",
              "    .dataframe thead th {\n",
              "        text-align: right;\n",
              "    }\n",
              "</style>\n",
              "<table border=\"1\" class=\"dataframe\">\n",
              "  <thead>\n",
              "    <tr style=\"text-align: right;\">\n",
              "      <th>landing_page</th>\n",
              "      <th>new</th>\n",
              "      <th>old</th>\n",
              "    </tr>\n",
              "    <tr>\n",
              "      <th>converted</th>\n",
              "      <th></th>\n",
              "      <th></th>\n",
              "    </tr>\n",
              "  </thead>\n",
              "  <tbody>\n",
              "    <tr>\n",
              "      <th>no</th>\n",
              "      <td>17</td>\n",
              "      <td>29</td>\n",
              "    </tr>\n",
              "    <tr>\n",
              "      <th>yes</th>\n",
              "      <td>33</td>\n",
              "      <td>21</td>\n",
              "    </tr>\n",
              "  </tbody>\n",
              "</table>\n",
              "</div>"
            ],
            "text/plain": [
              "landing_page  new  old\n",
              "converted             \n",
              "no             17   29\n",
              "yes            33   21"
            ]
          },
          "metadata": {},
          "execution_count": 86
        }
      ]
    },
    {
      "cell_type": "markdown",
      "metadata": {
        "id": "mX7Dj4yq14PY"
      },
      "source": [
        "**Comment**\n",
        "\n",
        "- 33 out of 50 Users were converted on the new landing page.\n",
        "- 21 ou of 50 users where converted on the old landing page.\n",
        "\n",
        "**Observation/Insights**\n",
        "\n",
        "- The new landing page converted more 12 more users than the old landing page.\n",
        "- The new landing page has 66% chance of converting users\n",
        "- The old landing page has 42% conversion users rate"
      ]
    },
    {
      "cell_type": "code",
      "metadata": {
        "scrolled": true,
        "colab": {
          "base_uri": "https://localhost:8080/"
        },
        "id": "puF4wf0C14PY",
        "outputId": "1031fb4c-7b04-43dd-c095-e5039ac13794"
      },
      "source": [
        "pd.crosstab(enews['converted'], enews['landing_page']).mean()"
      ],
      "execution_count": null,
      "outputs": [
        {
          "output_type": "execute_result",
          "data": {
            "text/plain": [
              "landing_page\n",
              "new    25.0\n",
              "old    25.0\n",
              "dtype: float64"
            ]
          },
          "metadata": {},
          "execution_count": 87
        }
      ]
    },
    {
      "cell_type": "code",
      "metadata": {
        "id": "MAxpPBO614PY"
      },
      "source": [
        "# computing the number of users who visited the new page.\n",
        "new_page_yes = enews[enews[\"converted\"]=='yes'].converted.value_counts()\n",
        "# computing the number of users who visited the old page.\n",
        "new_page_no = enews[enews[\"converted\"]=='no'].converted.value_counts()\n",
        "\n",
        "#number of users in the new page\n",
        "new = enews.landing_page.value_counts()[\"new\"]\n",
        "\n",
        "# number of users in the old page\n",
        "old = enews.landing_page.value_counts()[\"old\"]\n"
      ],
      "execution_count": null,
      "outputs": []
    },
    {
      "cell_type": "code",
      "metadata": {
        "scrolled": true,
        "colab": {
          "base_uri": "https://localhost:8080/"
        },
        "id": "LAzSJLPb14PZ",
        "outputId": "ce7c34d1-8a84-426d-ec41-e2c76484393f"
      },
      "source": [
        "print('the number of users who visited the new page: ', new_page_no,'\\n''\\n',\n",
        "      'the number of users who visited the old page: ',new_page_yes,'\\n''\\n',\n",
        "    'number of users in the new page: ',new,'\\n''\\n'\n",
        "      'number of users in the old page: ',old), '\\n''\\n'\n",
        "print(f' the proportion of new and old in landing_page are {round(54/100,2)}, {round(46/100,2)} respectively')"
      ],
      "execution_count": null,
      "outputs": [
        {
          "output_type": "stream",
          "name": "stdout",
          "text": [
            "the number of users who visited the new page:  no    46\n",
            "Name: converted, dtype: int64 \n",
            "\n",
            " the number of users who visited the old page:  yes    54\n",
            "Name: converted, dtype: int64 \n",
            "\n",
            " number of users in the new page:  50 \n",
            "\n",
            "number of users in the old page:  50\n",
            " the proportion of new and old in landing_page are 0.54, 0.46 respectively\n"
          ]
        }
      ]
    },
    {
      "cell_type": "markdown",
      "metadata": {
        "id": "Yy3CAGqN14PZ"
      },
      "source": [
        "### Hypothesis Fomulation:\n",
        "\n",
        "**Null Hypothesis**\n",
        "\n",
        " >$H_0:$ = Conversion rate for the new page is equal than the old page.\n",
        "\n",
        " - $µ new = $µ old\n",
        "\n",
        "**Alternate Hypothesis**\n",
        "\n",
        ">$H_a:$ = Conversion rate for the new page is greater than or equal the old page\n",
        " - $µ new => $µ old\n",
        " \n",
        "'landing_page' and 'converted' are both categorical features."
      ]
    },
    {
      "cell_type": "markdown",
      "metadata": {
        "id": "0hAdj-Hn14PZ"
      },
      "source": [
        "**Computing P-Value based on different proportions**"
      ]
    },
    {
      "cell_type": "code",
      "metadata": {
        "colab": {
          "base_uri": "https://localhost:8080/"
        },
        "id": "1QvsazOq14Pa",
        "outputId": "51182c64-486d-4ad1-a45b-89b7c0939a24"
      },
      "source": [
        "# set the counts of converted\n",
        "\n",
        "counts = np.array([46, 54])\n",
        "\n",
        "# set the sample sizes\n",
        "props = np.array([50,100])\n",
        "\n",
        "# find the p-value\n",
        "test_stat, p_value = proportions_ztest(counts, props)\n",
        "print('The p-value is ' + str(round(p_value,7)))"
      ],
      "execution_count": null,
      "outputs": [
        {
          "output_type": "stream",
          "name": "stdout",
          "text": [
            "The p-value is 3.3e-06\n"
          ]
        }
      ]
    },
    {
      "cell_type": "code",
      "metadata": {
        "scrolled": true,
        "colab": {
          "base_uri": "https://localhost:8080/"
        },
        "id": "uBN3haQA14Pa",
        "outputId": "5087fe82-9c9d-4db8-8657-150ca8f2ceda"
      },
      "source": [
        "reject_or_not( 3.3e-06)"
      ],
      "execution_count": null,
      "outputs": [
        {
          "output_type": "stream",
          "name": "stdout",
          "text": [
            "SInce the p-value 3.3e-06 is less than the level of significance, we reject the null hypothesis.\n"
          ]
        }
      ]
    },
    {
      "cell_type": "code",
      "metadata": {
        "colab": {
          "base_uri": "https://localhost:8080/"
        },
        "id": "jFtuN6Wl14Pa",
        "outputId": "9b7dc5f4-a8db-4861-875b-e49d4f48dde1"
      },
      "source": [
        "ritical_val1 = norm.ppf(1-(0.05))\n",
        "critical_val2 = norm.ppf(0.05)\n",
        "\n",
        "# plot the rejection and acceptance region\n",
        "# We are plotting the distributions here to better visualize the calculations\n",
        "x = np.linspace(-4, 4, 100) # create an array of 100 numbers starting from -4 and ending at 4\n",
        "plt.plot(x, norm.pdf(x, 0, 1), c='b') # plot the pdf of the normal distribution\n",
        "plt.axvline(x = critical_val1, c = 'r') # draw a vertical red line through the mentioned point\n",
        "x1 = np.linspace(critical_val1, 4, 50) # create an array of 50 numbers starting from the critical value and ending at 4\n",
        "plt.fill_between(x1, norm.pdf(x1, 0, 1), color='r') # fill the area under the curve after the critical value with red color\n",
        "x1 = np.linspace(-4, critical_val2, 50) # create an array of 50 numbers starting from -4 and ending at the critical value\n",
        "plt.annotate('Reject Null', (2.2, 0.20)) # annotate the mentioned text at the mentioned location\n",
        "plt.annotate('  Do Not Reject\\n        Null', (-1, 0.20)) # annotate the mentioned text at the mentioned location\n",
        "plt.annotate('P-value (~ 3.3e-06) falls around here- (far beyond chance zone)', (3.5, 0.0002), c='b')\n",
        "plt.title('P-value (~ 3.3e-06)')\n",
        "plt.show() # display the plot"
      ],
      "execution_count": null,
      "outputs": [
        {
          "output_type": "display_data",
          "data": {
            "image/png": "[encoded data removed]",
            "text/plain": [
              "<Figure size 432x288 with 1 Axes>"
            ]
          },
          "metadata": {}
        }
      ]
    },
    {
      "cell_type": "markdown",
      "metadata": {
        "id": "5-IsGIvZ14Pa"
      },
      "source": [
        "**Statistical Analysis Interpretation**\n",
        "\n",
        "-  **We Reject the Null Hypothesis** since the Two tailed P_value (3.3e-06) is lesser than the significance level (α =0.05). \n",
        "\n",
        "- **Therefore: Conversion rate for the new page is greater than or equal the old page**"
      ]
    },
    {
      "cell_type": "markdown",
      "metadata": {
        "id": "iaFH6OV414Pb"
      },
      "source": [
        "**3.  Does the converted status depend on the preferred language?**"
      ]
    },
    {
      "cell_type": "code",
      "metadata": {
        "colab": {
          "base_uri": "https://localhost:8080/"
        },
        "id": "llat2oyP14Pb",
        "outputId": "b93d73e8-f371-45ca-8b01-e580f8258ce8"
      },
      "source": [
        "#Using pandas crosstab to check for converted users' preferred language\n",
        "pd.crosstab(enews['converted'], enews['language_preferred'])"
      ],
      "execution_count": null,
      "outputs": [
        {
          "output_type": "execute_result",
          "data": {
            "text/html": [
              "<div>\n",
              "<style scoped>\n",
              "    .dataframe tbody tr th:only-of-type {\n",
              "        vertical-align: middle;\n",
              "    }\n",
              "\n",
              "    .dataframe tbody tr th {\n",
              "        vertical-align: top;\n",
              "    }\n",
              "\n",
              "    .dataframe thead th {\n",
              "        text-align: right;\n",
              "    }\n",
              "</style>\n",
              "<table border=\"1\" class=\"dataframe\">\n",
              "  <thead>\n",
              "    <tr style=\"text-align: right;\">\n",
              "      <th>language_preferred</th>\n",
              "      <th>English</th>\n",
              "      <th>French</th>\n",
              "      <th>Spanish</th>\n",
              "    </tr>\n",
              "    <tr>\n",
              "      <th>converted</th>\n",
              "      <th></th>\n",
              "      <th></th>\n",
              "      <th></th>\n",
              "    </tr>\n",
              "  </thead>\n",
              "  <tbody>\n",
              "    <tr>\n",
              "      <th>no</th>\n",
              "      <td>11</td>\n",
              "      <td>19</td>\n",
              "      <td>16</td>\n",
              "    </tr>\n",
              "    <tr>\n",
              "      <th>yes</th>\n",
              "      <td>21</td>\n",
              "      <td>15</td>\n",
              "      <td>18</td>\n",
              "    </tr>\n",
              "  </tbody>\n",
              "</table>\n",
              "</div>"
            ],
            "text/plain": [
              "language_preferred  English  French  Spanish\n",
              "converted                                   \n",
              "no                       11      19       16\n",
              "yes                      21      15       18"
            ]
          },
          "metadata": {},
          "execution_count": 93
        }
      ]
    },
    {
      "cell_type": "markdown",
      "metadata": {
        "id": "KtBqXzBM14Pb"
      },
      "source": [
        "**Comment**\n",
        "\n",
        "- English Users were the most converted.\n",
        "- The second most converted users are Spaniards/Spanish speaking Users.\n",
        "- Only 15 of the 34 French speaking users were converted\n",
        "\n",
        "**Observation/Insights**\n",
        "- Most users preferred the english version of the site\n",
        "- Most subscribers are English natives/speakers"
      ]
    },
    {
      "cell_type": "code",
      "metadata": {
        "scrolled": true,
        "colab": {
          "base_uri": "https://localhost:8080/"
        },
        "id": "tEUklWwM14Pb",
        "outputId": "948044b4-1ef5-4dde-e459-77955cd985ed"
      },
      "source": [
        "sns.boxplot(enews[\"converted\"], enews[\"time_spent_on_the_page\"], showmeans=True,)\n",
        "plt.show()\n",
        "enews.groupby('converted')[\"time_spent_on_the_page\"].mean()"
      ],
      "execution_count": null,
      "outputs": [
        {
          "output_type": "stream",
          "name": "stderr",
          "text": [
            "/usr/local/lib/python3.7/dist-packages/seaborn/_decorators.py:43: FutureWarning: Pass the following variables as keyword args: x, y. From version 0.12, the only valid positional argument will be `data`, and passing other arguments without an explicit keyword will result in an error or misinterpretation.\n",
            "  FutureWarning\n"
          ]
        },
        {
          "output_type": "display_data",
          "data": {
            "image/png": "[encoded data removed]",
            "text/plain": [
              "<Figure size 432x288 with 1 Axes>"
            ]
          },
          "metadata": {}
        },
        {
          "output_type": "execute_result",
          "data": {
            "text/plain": [
              "converted\n",
              "no     3.915870\n",
              "yes    6.623148\n",
              "Name: time_spent_on_the_page, dtype: float64"
            ]
          },
          "metadata": {},
          "execution_count": 94
        }
      ]
    },
    {
      "cell_type": "markdown",
      "metadata": {
        "id": "LO23gZaK14Pc"
      },
      "source": [
        "**Comment**\n",
        "- The converted users spend more time on the page than the non converted."
      ]
    },
    {
      "cell_type": "code",
      "metadata": {
        "colab": {
          "base_uri": "https://localhost:8080/"
        },
        "id": "8D8M-RPE14Pc",
        "outputId": "88307d4e-2eeb-47c0-bc21-e3bc13078c31"
      },
      "source": [
        "sns.boxplot(y=\"time_spent_on_the_page\", x=\"converted\", hue = 'language_preferred',  data=enews)\n",
        "plt.show()\n",
        "plt.tight_layout()"
      ],
      "execution_count": null,
      "outputs": [
        {
          "output_type": "display_data",
          "data": {
            "image/png": "[encoded data removed]",
            "text/plain": [
              "<Figure size 432x288 with 1 Axes>"
            ]
          },
          "metadata": {}
        },
        {
          "output_type": "display_data",
          "data": {
            "text/plain": [
              "<Figure size 432x288 with 0 Axes>"
            ]
          },
          "metadata": {}
        }
      ]
    },
    {
      "cell_type": "markdown",
      "metadata": {
        "id": "7jQ5Bprh14Pc"
      },
      "source": [
        "**Comment**\n",
        "\n",
        "- The boxplot above shows that French and English converted speakers spend more time on the page than any other group i.e the non converted language speakers"
      ]
    },
    {
      "cell_type": "code",
      "metadata": {
        "scrolled": true,
        "colab": {
          "base_uri": "https://localhost:8080/"
        },
        "id": "RKiafc8J14Pc",
        "outputId": "af3d3132-63fe-403a-8ae6-23382fde7440"
      },
      "source": [
        "#mean of the converted/Non-converted language speakers\n",
        "pd.crosstab(enews['converted'], enews['language_preferred']).mean()"
      ],
      "execution_count": null,
      "outputs": [
        {
          "output_type": "execute_result",
          "data": {
            "text/plain": [
              "language_preferred\n",
              "English    16.0\n",
              "French     17.0\n",
              "Spanish    17.0\n",
              "dtype: float64"
            ]
          },
          "metadata": {},
          "execution_count": 96
        }
      ]
    },
    {
      "cell_type": "code",
      "metadata": {
        "colab": {
          "base_uri": "https://localhost:8080/"
        },
        "id": "HQfm7DDr14Pc",
        "outputId": "8281b66b-5997-437c-fe67-80f0f1865df8"
      },
      "source": [
        "#count of the converted/Non-converted users\n",
        "enews.converted.value_counts()"
      ],
      "execution_count": null,
      "outputs": [
        {
          "output_type": "execute_result",
          "data": {
            "text/plain": [
              "yes    54\n",
              "no     46\n",
              "Name: converted, dtype: int64"
            ]
          },
          "metadata": {},
          "execution_count": 97
        }
      ]
    },
    {
      "cell_type": "code",
      "metadata": {
        "colab": {
          "base_uri": "https://localhost:8080/"
        },
        "id": "yIzb4iDU14Pd",
        "outputId": "f81408a6-b2e2-43e0-ab55-23df2de8fd72"
      },
      "source": [
        "#count of the languages preferred by users\n",
        "enews.language_preferred.value_counts()"
      ],
      "execution_count": null,
      "outputs": [
        {
          "output_type": "execute_result",
          "data": {
            "text/plain": [
              "French     34\n",
              "Spanish    34\n",
              "English    32\n",
              "Name: language_preferred, dtype: int64"
            ]
          },
          "metadata": {},
          "execution_count": 98
        }
      ]
    },
    {
      "cell_type": "markdown",
      "metadata": {
        "id": "UnMyDg-i14Pd"
      },
      "source": [
        "### Hypothesis Fomulation:\n",
        "\n",
        "**Null Hypothesis**\n",
        "\n",
        ">$H_0$ = Converted status depend on language preference.\n",
        "\n",
        " - $µ_E$ = $µ_F$ = $µ_S$\n",
        "\n",
        "**Alternate Hypothesis**\n",
        "\n",
        ">$H_a$ = Converted status depend on language preference.\n",
        "\n",
        " - Atleast one µ is different"
      ]
    },
    {
      "cell_type": "code",
      "metadata": {
        "colab": {
          "base_uri": "https://localhost:8080/"
        },
        "id": "Cun6mGsZ14Pd",
        "outputId": "a9b11940-a69d-45cd-9b5b-bccdb840ce89"
      },
      "source": [
        "#preparing the contingency table\n",
        "contigency_table = pd.crosstab(enews['converted'],enews['language_preferred'])\n",
        "chi, p_value, dfn, expected = chi2_contingency(contigency_table)\n",
        "p_value"
      ],
      "execution_count": null,
      "outputs": [
        {
          "output_type": "execute_result",
          "data": {
            "text/plain": [
              "0.21298887487543447"
            ]
          },
          "metadata": {},
          "execution_count": 99
        }
      ]
    },
    {
      "cell_type": "code",
      "metadata": {
        "scrolled": true,
        "colab": {
          "base_uri": "https://localhost:8080/"
        },
        "id": "gunEjXCn14Pe",
        "outputId": "13f3831b-5a19-4f7c-f846-b5ce00e08e08"
      },
      "source": [
        "reject_or_not(0.21298887487543447)"
      ],
      "execution_count": null,
      "outputs": [
        {
          "output_type": "stream",
          "name": "stdout",
          "text": [
            "SInce the p-value 0.21298887487543447 is greater than the level of significance, we fail to reject the null hypothesis.\n"
          ]
        }
      ]
    },
    {
      "cell_type": "markdown",
      "metadata": {
        "id": "7dISH__R14Pe"
      },
      "source": [
        "**Statistical Analysis Interpretation**\n",
        "\n",
        "-  **We Reject the Null Hypothesis** since the Two tailed P_value (0.21298887) is greater than the significance level (α =0.05). \n",
        "\n",
        "- **Therefore: Converted status depend on language preference**"
      ]
    },
    {
      "cell_type": "markdown",
      "metadata": {
        "id": "uuWx8cQz14Pe"
      },
      "source": [
        "**4.  Is the mean time spent on the new page same for the different language users?**"
      ]
    },
    {
      "cell_type": "code",
      "metadata": {
        "colab": {
          "base_uri": "https://localhost:8080/"
        },
        "id": "kaVXG1T814Pe",
        "outputId": "a3657b59-22df-48bf-ba89-15d8a8bb3e52"
      },
      "source": [
        "pd.crosstab(enews['language_preferred'], enews['landing_page'], enews['time_spent_on_the_page'], aggfunc = np.mean)"
      ],
      "execution_count": null,
      "outputs": [
        {
          "output_type": "execute_result",
          "data": {
            "text/html": [
              "<div>\n",
              "<style scoped>\n",
              "    .dataframe tbody tr th:only-of-type {\n",
              "        vertical-align: middle;\n",
              "    }\n",
              "\n",
              "    .dataframe tbody tr th {\n",
              "        vertical-align: top;\n",
              "    }\n",
              "\n",
              "    .dataframe thead th {\n",
              "        text-align: right;\n",
              "    }\n",
              "</style>\n",
              "<table border=\"1\" class=\"dataframe\">\n",
              "  <thead>\n",
              "    <tr style=\"text-align: right;\">\n",
              "      <th>landing_page</th>\n",
              "      <th>new</th>\n",
              "      <th>old</th>\n",
              "    </tr>\n",
              "    <tr>\n",
              "      <th>language_preferred</th>\n",
              "      <th></th>\n",
              "      <th></th>\n",
              "    </tr>\n",
              "  </thead>\n",
              "  <tbody>\n",
              "    <tr>\n",
              "      <th>English</th>\n",
              "      <td>6.663750</td>\n",
              "      <td>4.454375</td>\n",
              "    </tr>\n",
              "    <tr>\n",
              "      <th>French</th>\n",
              "      <td>6.196471</td>\n",
              "      <td>4.310000</td>\n",
              "    </tr>\n",
              "    <tr>\n",
              "      <th>Spanish</th>\n",
              "      <td>5.835294</td>\n",
              "      <td>4.828235</td>\n",
              "    </tr>\n",
              "  </tbody>\n",
              "</table>\n",
              "</div>"
            ],
            "text/plain": [
              "landing_page             new       old\n",
              "language_preferred                    \n",
              "English             6.663750  4.454375\n",
              "French              6.196471  4.310000\n",
              "Spanish             5.835294  4.828235"
            ]
          },
          "metadata": {},
          "execution_count": 101
        }
      ]
    },
    {
      "cell_type": "code",
      "metadata": {
        "colab": {
          "base_uri": "https://localhost:8080/"
        },
        "id": "L89BGDIp14Pe",
        "outputId": "a2d29e5c-b78e-4e59-f2f5-c02740ef56e4"
      },
      "source": [
        "sns.boxplot(enews[\"language_preferred\"], enews[\"time_spent_on_the_page\"], showmeans=True);\n",
        "plt.grid()"
      ],
      "execution_count": null,
      "outputs": [
        {
          "output_type": "stream",
          "name": "stderr",
          "text": [
            "/usr/local/lib/python3.7/dist-packages/seaborn/_decorators.py:43: FutureWarning: Pass the following variables as keyword args: x, y. From version 0.12, the only valid positional argument will be `data`, and passing other arguments without an explicit keyword will result in an error or misinterpretation.\n",
            "  FutureWarning\n"
          ]
        },
        {
          "output_type": "display_data",
          "data": {
            "image/png": "[encoded data removed]",
            "text/plain": [
              "<Figure size 432x288 with 1 Axes>"
            ]
          },
          "metadata": {}
        }
      ]
    },
    {
      "cell_type": "markdown",
      "metadata": {
        "id": "dzDmXith14Pf"
      },
      "source": [
        "**Comment**\n",
        "\n",
        "- The mean time spent on the new page is not the same for different languages.\n",
        "- English Users spend the most time followed by  French Users and least are Spanish users.\n",
        "- This was also illustrated on the visualization: ***Landing Page vs Time Spent on the Page***\n",
        "\n",
        "**Observation/Insight**\n",
        "\n",
        "- English Users spend most time on the site."
      ]
    },
    {
      "cell_type": "markdown",
      "metadata": {
        "id": "ldwz_xaX14Pf"
      },
      "source": [
        " **STATISTICAL ANALYSIS:**"
      ]
    },
    {
      "cell_type": "markdown",
      "metadata": {
        "id": "VAzSvPIA14Pf"
      },
      "source": [
        "- Statistical analysis of the signifcance of the variation between the different languages and time spent by the users on different pages will be done Analyzing the Variance.\n",
        "\n",
        "- Analysis is Of Variance (ANOVA) is done to determine whether there is any significant differences between each language's landing page and the time users spent on it.\n"
      ]
    },
    {
      "cell_type": "code",
      "metadata": {
        "colab": {
          "base_uri": "https://localhost:8080/"
        },
        "id": "qAoC0Doh14Pf",
        "outputId": "58251449-574f-429c-d4de-45c6689ffe7a"
      },
      "source": [
        "# mean values for the time spent on different landing pages\n",
        "print(enews.groupby(\"landing_page\")[\"time_spent_on_the_page\"].mean())\n",
        "\n",
        "# draw the boxplot for visualization \n",
        "fig, ax = plt.subplots(figsize = (6,6))\n",
        "a = sns.boxplot(x= \"landing_page\", y = 'time_spent_on_the_page' , data = enews, hue = 'landing_page')\n",
        "a.set_title(\"Time Spent on the Different landing Pages\", fontsize=13)\n",
        "plt.show()"
      ],
      "execution_count": null,
      "outputs": [
        {
          "output_type": "stream",
          "name": "stdout",
          "text": [
            "landing_page\n",
            "new    6.2232\n",
            "old    4.5324\n",
            "Name: time_spent_on_the_page, dtype: float64\n"
          ]
        },
        {
          "output_type": "display_data",
          "data": {
            "image/png": "[encoded data removed]",
            "text/plain": [
              "<Figure size 432x432 with 1 Axes>"
            ]
          },
          "metadata": {}
        }
      ]
    },
    {
      "cell_type": "markdown",
      "metadata": {
        "id": "tCzMYC4g14Pg"
      },
      "source": [
        "**Comment**\n",
        "- The mean time spent on the site by the users of the new landing page is greater than that of the old page.\n",
        "- **Average time spend on the site are 6.22mins and 4.53 for the users on the new and old landing page respectively**\n",
        "- The new landing page contains outliers which are greater than the maximum time of the time spent on the old page.\n",
        "- the minimum time are **new page: 1.65mins** and **old page : 0.19mins**."
      ]
    },
    {
      "cell_type": "markdown",
      "metadata": {
        "id": "M1qNww5414Pg"
      },
      "source": [
        "**Checking for the normality and equality of variance assumptions need to be checked.** \n",
        "\n",
        "* For testing of normality, Shapiro-Wilk’s test is applied to the response variable.\n",
        "\n",
        "* For equality of variance, Levene test is applied to the response variable."
      ]
    },
    {
      "cell_type": "markdown",
      "metadata": {
        "id": "wyyd0gbA14Pg"
      },
      "source": [
        "### Shapiro-Wilk’s test\n",
        "\n",
        "We will test the null hypothesis\n",
        "\n",
        ">$H_0:$ The mean time for all languages are the same\n",
        "\n",
        "against the alternative hypothesis\n",
        "\n",
        ">$H_a:$ The mean time for all languages are not the same"
      ]
    },
    {
      "cell_type": "code",
      "metadata": {
        "colab": {
          "base_uri": "https://localhost:8080/"
        },
        "id": "AvoR-8Bt14Pg",
        "outputId": "969bc378-226c-43be-ef03-93168d0f0525"
      },
      "source": [
        "# Assumption Normality\n",
        "\n",
        "# find the p-value\n",
        "w, p_value = stats.shapiro(enews['time_spent_on_the_page']) \n",
        "print('The p-value is', p_value)"
      ],
      "execution_count": null,
      "outputs": [
        {
          "output_type": "stream",
          "name": "stdout",
          "text": [
            "The p-value is 0.5643684267997742\n"
          ]
        }
      ]
    },
    {
      "cell_type": "markdown",
      "metadata": {
        "id": "doonZWMG14Ph"
      },
      "source": [
        "Since p-value of the test is very large, we fail to reject the null hypothesis that the response follows the normal distribution."
      ]
    },
    {
      "cell_type": "markdown",
      "metadata": {
        "id": "1MqId7hM14Ph"
      },
      "source": [
        "### Levene’s test\n",
        "\n",
        "We will test the null hypothesis\n",
        "\n",
        ">$H_0$: All the population variances are equal\n",
        "\n",
        "against the alternative hypothesis\n",
        "\n",
        ">$H_a$: At least one variance is different from the rest"
      ]
    },
    {
      "cell_type": "code",
      "metadata": {
        "scrolled": true,
        "colab": {
          "base_uri": "https://localhost:8080/"
        },
        "id": "DIZDsvSH14Ph",
        "outputId": "96eb5a29-ee23-4f72-8ada-02d28c3411f6"
      },
      "source": [
        "#Assumption Homogeneity of Variance\n",
        "\n",
        "# find the p-value\n",
        "statistic, p_value = stats.levene(enews[enews['language_preferred']=='Spanish']['time_spent_on_the_page'],\n",
        "                            enews[enews['language_preferred']=='English']['time_spent_on_the_page'],\n",
        "                            enews[enews['language_preferred']=='French']['time_spent_on_the_page'])\n",
        "print('The p-value is', p_value)"
      ],
      "execution_count": null,
      "outputs": [
        {
          "output_type": "stream",
          "name": "stdout",
          "text": [
            "The p-value is 0.06515086840327314\n"
          ]
        }
      ]
    },
    {
      "cell_type": "code",
      "metadata": {
        "colab": {
          "base_uri": "https://localhost:8080/"
        },
        "id": "pO5JtWuS14Ph",
        "outputId": "46f37153-c80b-47d2-e58c-87350d5268a9"
      },
      "source": [
        "reject_or_not(0.06515086840327314)"
      ],
      "execution_count": null,
      "outputs": [
        {
          "output_type": "stream",
          "name": "stdout",
          "text": [
            "SInce the p-value 0.06515086840327314 is greater than the level of significance, we fail to reject the null hypothesis.\n"
          ]
        }
      ]
    },
    {
      "cell_type": "markdown",
      "metadata": {
        "id": "9g7oKeMk14Pi"
      },
      "source": [
        "Since the p-value is greater than the aplha level, we fail reject the null hypothesis of homogeneity of variances."
      ]
    },
    {
      "cell_type": "code",
      "metadata": {
        "colab": {
          "base_uri": "https://localhost:8080/"
        },
        "id": "kIZ_zltm14Pj",
        "outputId": "b3961bd6-d066-4b07-cc55-042ed8b25141"
      },
      "source": [
        "from scipy.stats import f_oneway\n",
        "\n",
        "# perform one-way anova test\n",
        "test_stat, p_value = f_oneway(enews[enews[\"language_preferred\"]==\"Spanish\"][\"time_spent_on_the_page\"],\n",
        "enews[enews[\"language_preferred\"]==\"English\"][\"time_spent_on_the_page\"],\n",
        "enews[enews[\"language_preferred\"]==\"French\"][\"time_spent_on_the_page\"],\n",
        "                              )\n",
        "print('The p-value is ' + str(p_value))"
      ],
      "execution_count": null,
      "outputs": [
        {
          "output_type": "stream",
          "name": "stdout",
          "text": [
            "The p-value is 0.8665610536012648\n"
          ]
        }
      ]
    },
    {
      "cell_type": "code",
      "metadata": {
        "colab": {
          "base_uri": "https://localhost:8080/"
        },
        "id": "lMEWws0l14Pk",
        "outputId": "78808764-9fef-47c3-8620-2a4c1bebf79d"
      },
      "source": [
        "reject_or_not(0.8665610536012648)"
      ],
      "execution_count": null,
      "outputs": [
        {
          "output_type": "stream",
          "name": "stdout",
          "text": [
            "SInce the p-value 0.8665610536012648 is greater than the level of significance, we fail to reject the null hypothesis.\n"
          ]
        }
      ]
    },
    {
      "cell_type": "markdown",
      "metadata": {
        "id": "cf5qkY8N14Pk"
      },
      "source": [
        "**Observation/Insight**\n",
        "\n",
        "As the p-value is greater than the significance level, we fail reject the null hypothesis. Hence, we do have enough statistical significance to conclude that  at least one of the mean time spent on the different languages landing page is different from the rest at 5% significance level.\n"
      ]
    },
    {
      "cell_type": "markdown",
      "metadata": {
        "id": "5aXFFiBJ14Pk"
      },
      "source": [
        "# CONCLUSION\n",
        "\n",
        "- The new landing page converted more 12 more users than the old landing page.\n",
        "- The new landing page has 66% chance of converting users\n",
        "- The old landing page has 42% conversion users rate\n",
        "- Most users preferred the english version of the site\n",
        "- Most subscribers are English natives/speakers\n",
        "- Users prefer the new landing page\n",
        "- They spend more time on the new landing page\n",
        "- The mean time spent on the new page is not the same for all languages.\n",
        "- English Users spend the most time followed by French Users and least are Spanish users\n",
        "- Most users preferred the english version of the site\n",
        "- Most subscribers are English natives/speakers\n",
        "- the treatment group spend the most time on the site.\n",
        "- They spend a maximum time greater than the Users on the Control group\n",
        "\n",
        "\n",
        "# RECOMMENDATION\n",
        "\n",
        "- Try to incorporate the features on the new landing page on the old to page to increase future users conversion on the old page.\n",
        "- Invest more on the new landing page.\n",
        "- Accept the new landing page for campaigns and other business needs.\n",
        "- Focus massively on english and french subcribers\n",
        "- Incorporate strategies to convince spanish subscribers to use the new page more."
      ]
    }
  ]
}